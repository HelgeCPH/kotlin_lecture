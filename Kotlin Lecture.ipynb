{
 "cells": [
  {
   "cell_type": "markdown",
   "metadata": {
    "slideshow": {
     "slide_type": "slide"
    }
   },
   "source": [
    "# Kotlin (on Android)"
   ]
  },
  {
   "cell_type": "markdown",
   "metadata": {
    "slideshow": {
     "slide_type": "fragment"
    }
   },
   "source": [
    "## _\"No News is Good News\"_, [Kasper Østerbye](https://www.researchgate.net/scientific-contributions/70788830_Kasper_Osterbye)\n",
    "\n",
    "![](https://avatars3.githubusercontent.com/u/17823636?v=3&s=120)"
   ]
  },
  {
   "cell_type": "markdown",
   "metadata": {
    "slideshow": {
     "slide_type": "slide"
    }
   },
   "source": [
    "# Who am I?"
   ]
  },
  {
   "cell_type": "markdown",
   "metadata": {
    "slideshow": {
     "slide_type": "subslide"
    }
   },
   "source": [
    "# Who am I?\n",
    "\n",
    "My name is Helge.\n",
    "\n",
    "<img src=\"https://avatars3.githubusercontent.com/u/21216985?s=400&v=4\" width=\"100px\"/>\n",
    "\n",
    "\n",
    "  * PhD in Software Engineering from ITU\n",
    "  * Software engineer at [DMI](https://dmi.dk)\n",
    "  * Lecturer at [Copenhagen Business Academy](https://www.cphbusiness.dk)\n",
    "  * Since January again at ITU"
   ]
  },
  {
   "cell_type": "markdown",
   "metadata": {
    "slideshow": {
     "slide_type": "subslide"
    }
   },
   "source": [
    "# Helge's Background\n",
    "\n",
    "<img src=\"http://staticmap.openstreetmap.de/staticmap.php?center=50.9281717,11.5879359&zoom=5&size=865x512&maptype=mapnik&markers=50.9281717,11.5879359,lightblue1\"/>\n",
    "\n",
    "  * Junior Research Engineer at [Intershop](http://intershop.com)\n",
    "  * Dipl-Inf. in Software Engineering from [Friedrich-Schiller Universität Jena](https://www.uni-jena.de/)\n",
    "  * TA and research assistant at Friedrich-Schiller Universität Jena"
   ]
  },
  {
   "cell_type": "markdown",
   "metadata": {
    "slideshow": {
     "slide_type": "subslide"
    }
   },
   "source": [
    "# Why do you talk about Kotlin?\n",
    "\n",
    "  * I like programming languages and in particular languages that get out of your way and let you get things done.\n",
    "  * I lived my last years of professional live in Python. \n",
    "    - Coming back to Java is really hard then.\n",
    "    - Kotlin relieves the pain :) \n",
    "\n",
    "\n",
    "----------\n",
    "\n",
    "  * I am not a Kotlin expert! \n",
    "  * Do we have Kotlin experts here?\n",
    "\n",
    "\n",
    "Student link: https://kahoot.it\n",
    "\n",
    "\n",
    "## Results of the Survey\n",
    "\n",
    "Your knowledge of Kotlin\n",
    "  \n",
    "  * Kotlin? What is this? .. 10\n",
    "  * I know the language exists .. 19\n",
    "  * I used the language already .. 0\n",
    "  * I am an expert in Kotlin .. 0\n",
    "  \n",
    "I would have preferred a lecture on iOS and Swift\n",
    "\n",
    "  * Yes .. 11\n",
    "  * No .. 19\n",
    "  \n",
    "Your knowledge of Swift\n",
    "\n",
    "  * Swift? What is this? .. 6\n",
    "  * I know the language exists .. 23\n",
    "  * I used the language already .. 1\n",
    "  * I am an expert in Swift .. 0"
   ]
  },
  {
   "cell_type": "markdown",
   "metadata": {
    "slideshow": {
     "slide_type": "subslide"
    }
   },
   "source": [
    "# Why does Kotlin matter?\n",
    "\n",
    "  * [Since 2017 it is an officially supported language](https://www.theverge.com/2017/5/17/15654988/google-jet-brains-kotlin-programming-language-android-development-io-2017) on Android (besides Java and C++)."
   ]
  },
  {
   "cell_type": "markdown",
   "metadata": {
    "slideshow": {
     "slide_type": "fragment"
    }
   },
   "source": [
    "  * It does not only target [Android](https://kotlinlang.org/docs/reference/android-overview.html) it targets:\n",
    "    - [Kotlin JVM](https://kotlinlang.org/docs/reference/server-overview.html)\n",
    "    - [Kotlin JS](https://kotlinlang.org/docs/tutorials/javascript/kotlin-to-javascript/kotlin-to-javascript.html)\n",
    "    - [Kotlin Native](https://kotlinlang.org/docs/tutorials/native/mpp-ios-android.html)\n",
    "\n",
    "  So in case you would like to target iPhones and Android devices simultaneously, you migth be interested in Kotlin Native. Here is a nice (example of a cross-platform Tetris game)[https://github.com/JetBrains/kotlin-native/tree/master/samples/tetris]\n"
   ]
  },
  {
   "cell_type": "markdown",
   "metadata": {
    "slideshow": {
     "slide_type": "skip"
    }
   },
   "source": [
    "# What makes a good programming language?\n",
    "\n",
    "\n",
    "Developers:\n",
    "\n",
    "  * It supports something useful with a convenient syntax\n",
    "  * It allows for third parties to write awesome libraries\n",
    "  * The support is proven to be correct\n",
    "  * The support is efficient\n",
    "  * The compiler finds and reports if the features are not used correctly\n",
    "  * Errors found at runtime is so much better than not being able to write your code nicely."
   ]
  },
  {
   "cell_type": "markdown",
   "metadata": {
    "slideshow": {
     "slide_type": "skip"
    }
   },
   "source": [
    "--------\n",
    "\n",
    "Researchers:\n",
    "\n",
    "  * It supports something hard with a convenient syntax\n",
    "  * The support is proven to be correct\n",
    "  * The support is efficient\n",
    "  * The compiler finds and reports if the features are not used correctly\n",
    "  * Nearly uninteresting if errors are not found until runtime.\n",
    "  * At least one of the above are novel (not done before in other languages)\n"
   ]
  },
  {
   "cell_type": "markdown",
   "metadata": {
    "slideshow": {
     "slide_type": "slide"
    }
   },
   "source": [
    "# Agenda\n",
    "\n",
    "  1. Running Kotlin programs\n",
    "  * Assorted Language Features\n",
    "    * Top-level features\n",
    "    * Variables and constants\n",
    "    * Nullable types\n",
    "    * Properties\n",
    "    * General classes and data classes\n",
    "    * Extension functions\n",
    "    * Sequences (and first class functions)\n",
    "  * Language interoperability\n",
    "  * Kotlin for Android"
   ]
  },
  {
   "cell_type": "markdown",
   "metadata": {
    "slideshow": {
     "slide_type": "slide"
    }
   },
   "source": [
    "## Running Kotlin Programs\n",
    "\n",
    "```kotlin\n",
    "fun main(args: Array<String>) {\n",
    "    println(\"Hello, World!\")\n",
    "}\n",
    "```\n"
   ]
  },
  {
   "cell_type": "markdown",
   "metadata": {
    "slideshow": {
     "slide_type": "fragment"
    }
   },
   "source": [
    "----\n",
    "Compile it into a stand-alone application:"
   ]
  },
  {
   "cell_type": "code",
   "execution_count": 1,
   "metadata": {
    "slideshow": {
     "slide_type": "fragment"
    }
   },
   "outputs": [
    {
     "data": {
      "text/plain": []
     },
     "execution_count": 1,
     "metadata": {},
     "output_type": "execute_result"
    }
   ],
   "source": [
    "%%bash\n",
    "cd hello_kotlin\n",
    "kotlinc hello.kt -include-runtime -d hello.jar"
   ]
  },
  {
   "cell_type": "code",
   "execution_count": 2,
   "metadata": {
    "slideshow": {
     "slide_type": "fragment"
    }
   },
   "outputs": [
    {
     "data": {
      "text/plain": [
       "total 4120\r\n",
       "-rw-r--r--  1 ropf  staff    39B Feb 20 19:12 hello.kts\r\n",
       "-rw-r--r--  1 ropf  staff    76B Feb 21 12:48 hello.kt\r\n",
       "-rw-r--r--  1 ropf  staff   1.1M Feb 26 10:35 hello.jar\r\n"
      ]
     },
     "execution_count": 2,
     "metadata": {},
     "output_type": "execute_result"
    }
   ],
   "source": [
    "%%bash\n",
    "ls -ltrh"
   ]
  },
  {
   "cell_type": "markdown",
   "metadata": {
    "slideshow": {
     "slide_type": "fragment"
    }
   },
   "source": [
    "Run it:"
   ]
  },
  {
   "cell_type": "code",
   "execution_count": 3,
   "metadata": {
    "slideshow": {
     "slide_type": "fragment"
    }
   },
   "outputs": [
    {
     "data": {
      "text/plain": [
       "Hello, World!\r\n"
      ]
     },
     "execution_count": 3,
     "metadata": {},
     "output_type": "execute_result"
    }
   ],
   "source": [
    "%%bash\n",
    "java -jar hello.jar"
   ]
  },
  {
   "cell_type": "markdown",
   "metadata": {
    "slideshow": {
     "slide_type": "subslide"
    }
   },
   "source": [
    "### Even shorter, Kotlin scripts\n",
    "\n",
    "```kotlin\n",
    "val msg = \"Hello, World!\"\n",
    "println(msg)\n",
    "```\n",
    "-----"
   ]
  },
  {
   "cell_type": "code",
   "execution_count": 4,
   "metadata": {
    "slideshow": {
     "slide_type": "fragment"
    }
   },
   "outputs": [
    {
     "data": {
      "text/plain": [
       "Hello, World!\r\n"
      ]
     },
     "execution_count": 4,
     "metadata": {},
     "output_type": "execute_result"
    }
   ],
   "source": [
    "%%bash\n",
    "kotlinc -script hello.kts"
   ]
  },
  {
   "cell_type": "markdown",
   "metadata": {
    "slideshow": {
     "slide_type": "subslide"
    }
   },
   "source": [
    "## Interactive Kotlin\n",
    "\n",
    "\n",
    "You can run Kotlin code directly in the REPL (read-evaluation-print-loop)\n",
    "\n",
    "\n",
    "```bash\n",
    "$ kotlinc-jvm\n",
    "```\n",
    "\n",
    "Alternatively, you can execute your code in the  browser directly:\n",
    "\n",
    "\n",
    "https://try.kotlinlang.org/"
   ]
  },
  {
   "cell_type": "markdown",
   "metadata": {
    "slideshow": {
     "slide_type": "slide"
    }
   },
   "source": [
    "# Assorted Language Features"
   ]
  },
  {
   "cell_type": "markdown",
   "metadata": {
    "slideshow": {
     "slide_type": "subslide"
    }
   },
   "source": [
    "## Not only classes can be top level\n",
    "\n",
    "In Java all code has to be organized in classes.\n",
    "\n",
    "```java\n",
    "public class HelloWorld {\n",
    "    public static void main(String[] args) {\n",
    "        System.out.println(\"Hello, World!\");\n",
    "    }\n",
    "}\n",
    "```"
   ]
  },
  {
   "cell_type": "markdown",
   "metadata": {
    "slideshow": {
     "slide_type": "fragment"
    }
   },
   "source": [
    "----\n",
    "Compile it with:"
   ]
  },
  {
   "cell_type": "code",
   "execution_count": 5,
   "metadata": {
    "slideshow": {
     "slide_type": "fragment"
    }
   },
   "outputs": [
    {
     "data": {
      "text/plain": []
     },
     "execution_count": 5,
     "metadata": {},
     "output_type": "execute_result"
    }
   ],
   "source": [
    "%%bash\n",
    "cd ../hello_java\n",
    "javac HelloWorld.java"
   ]
  },
  {
   "cell_type": "code",
   "execution_count": 6,
   "metadata": {
    "slideshow": {
     "slide_type": "fragment"
    }
   },
   "outputs": [
    {
     "data": {
      "text/plain": [
       "total 16\r\n",
       "-rw-r--r--  1 ropf  staff   125B Feb 20 18:41 HelloWorld.java\r\n",
       "-rw-r--r--  1 ropf  staff   427B Feb 26 10:35 HelloWorld.class\r\n"
      ]
     },
     "execution_count": 6,
     "metadata": {},
     "output_type": "execute_result"
    }
   ],
   "source": [
    "%%bash\n",
    "ls -ltrh"
   ]
  },
  {
   "cell_type": "markdown",
   "metadata": {
    "slideshow": {
     "slide_type": "fragment"
    }
   },
   "source": [
    "Run it:"
   ]
  },
  {
   "cell_type": "code",
   "execution_count": 7,
   "metadata": {
    "slideshow": {
     "slide_type": "fragment"
    }
   },
   "outputs": [
    {
     "data": {
      "text/plain": [
       "Hello, World!\r\n"
      ]
     },
     "execution_count": 7,
     "metadata": {},
     "output_type": "execute_result"
    }
   ],
   "source": [
    "%%bash\n",
    "java HelloWorld"
   ]
  },
  {
   "cell_type": "markdown",
   "metadata": {
    "slideshow": {
     "slide_type": "subslide"
    }
   },
   "source": [
    "## Not only classes can be top level\n",
    "\n",
    "#### Java\n",
    "```java\n",
    "public class HelloWorld {\n",
    "    public static void main(String[] args) {\n",
    "        System.out.println(\"Hello, World!\");\n",
    "    }\n",
    "}\n",
    "```\n",
    "----\n",
    "#### Kotlin\n",
    "```kotlin\n",
    "val msg = \"Hello, World!\"\n",
    "fun main(args: Array<String>) {\n",
    "    println(msg)\n",
    "}\n",
    "```"
   ]
  },
  {
   "cell_type": "markdown",
   "metadata": {
    "slideshow": {
     "slide_type": "fragment"
    }
   },
   "source": [
    "------\n",
    "In Kotlin all declarations can be top-level, in particular:\n",
    "\n",
    "  * Classes\n",
    "  * Variables (var)\n",
    "  * Constants/Values (val)\n",
    "  * Functions\n",
    "  * Objects\n",
    "  * ...\n",
    "  \n"
   ]
  },
  {
   "cell_type": "markdown",
   "metadata": {
    "slideshow": {
     "slide_type": "subslide"
    }
   },
   "source": [
    "## Variables (`var`) and Constants (`val`)\n",
    "\n",
    "This is a return to old style. For example, in Pascal -a language from the 70's-:\n",
    "\n",
    "```pascal\n",
    "program Helloworld;\n",
    "const\n",
    "  msg : PChar = 'Hello, World!';\n",
    "  almost_meaning : integer = 41;\n",
    "var\n",
    "  meaning : integer;\n",
    "begin\n",
    "  WriteLn(msg);\n",
    "  meaning := almost_meaning + 1;\n",
    "  WriteLn(meaning);\n",
    "end.\n",
    "```"
   ]
  },
  {
   "cell_type": "code",
   "execution_count": 8,
   "metadata": {
    "slideshow": {
     "slide_type": "skip"
    }
   },
   "outputs": [
    {
     "data": {
      "text/plain": [
       "Free Pascal Compiler version 3.0.4 [2018/10/02] for x86_64\r\n",
       "Copyright (c) 1993-2017 by Florian Klaempfl and others\r\n",
       "Target OS: Darwin for x86_64\r\n",
       "Compiling Helloworld.pas\r\n",
       "Assembling (pipe) Helloworld.s\r\n",
       "Linking Helloworld\r\n",
       "ld: warning: object file (/usr/local/Cellar/fpc/3.0.4_1/lib/fpc/3.0.4/units/x86_64-darwin/rtl/system.o) was built for newer OSX version (10.9) than being linked (10.5)\r\n",
       "10 lines compiled, 1.4 sec\r\n",
       "Hello, World!\r\n",
       "42\r\n"
      ]
     },
     "execution_count": 8,
     "metadata": {},
     "output_type": "execute_result"
    }
   ],
   "source": [
    "%%bash\n",
    "cd ../vars_consts_pascal/\n",
    "fpc Helloworld.pas\n",
    "./Helloworld"
   ]
  },
  {
   "cell_type": "markdown",
   "metadata": {
    "slideshow": {
     "slide_type": "subslide"
    }
   },
   "source": [
    "### Constants in Java and Kotlin\n",
    "\n",
    "Java introduced a quite complicated way to declare constants:\n",
    "\n",
    "```java\n",
    "public static final int meaning = 42; \n",
    "```\n",
    "\n",
    "Kotlin:"
   ]
  },
  {
   "cell_type": "code",
   "execution_count": 9,
   "metadata": {
    "slideshow": {
     "slide_type": "fragment"
    }
   },
   "outputs": [
    {
     "data": {
      "text/plain": [
       "\u001b[1;31merror: \u001b[0;1mval cannot be reassigned\u001b[m\n",
       "meaning = 43\n",
       "^"
      ]
     },
     "execution_count": 9,
     "metadata": {},
     "output_type": "execute_result"
    }
   ],
   "source": [
    "val meaning = 42;\n",
    "meaning = 43"
   ]
  },
  {
   "cell_type": "code",
   "execution_count": 10,
   "metadata": {
    "slideshow": {
     "slide_type": "fragment"
    }
   },
   "outputs": [
    {
     "data": {
      "text/plain": [
       "43"
      ]
     },
     "execution_count": 10,
     "metadata": {},
     "output_type": "execute_result"
    }
   ],
   "source": [
    "var meaning = 42;\n",
    "meaning = 43\n",
    "println(meaning)"
   ]
  },
  {
   "cell_type": "markdown",
   "metadata": {
    "slideshow": {
     "slide_type": "subslide"
    }
   },
   "source": [
    "## Null Pointers\n",
    "\n",
    "Kotlin has support for nullable types (and in particular non-nullable)."
   ]
  },
  {
   "cell_type": "code",
   "execution_count": 11,
   "metadata": {
    "slideshow": {
     "slide_type": "-"
    }
   },
   "outputs": [
    {
     "data": {
      "text/plain": [
       "Super, Mario!"
      ]
     },
     "execution_count": 11,
     "metadata": {},
     "output_type": "execute_result"
    }
   ],
   "source": [
    "fun hephep(name: String) {\n",
    "    println(\"Super, $name!\")\n",
    "}\n",
    "\n",
    "hephep(\"Mario\")"
   ]
  },
  {
   "cell_type": "markdown",
   "metadata": {
    "slideshow": {
     "slide_type": "fragment"
    }
   },
   "source": [
    "### Your turn!\n",
    "\n",
    "What is the behavior of the following call?"
   ]
  },
  {
   "cell_type": "code",
   "execution_count": 12,
   "metadata": {},
   "outputs": [
    {
     "data": {
      "text/plain": [
       "\u001b[1;31merror: \u001b[0;1mnull can not be a value of a non-null type String\u001b[m\n",
       "hephep(null)\n",
       "       ^"
      ]
     },
     "execution_count": 12,
     "metadata": {},
     "output_type": "execute_result"
    }
   ],
   "source": [
    "hephep(null)"
   ]
  },
  {
   "cell_type": "markdown",
   "metadata": {
    "slideshow": {
     "slide_type": "fragment"
    }
   },
   "source": [
    "In Java that would work..."
   ]
  },
  {
   "cell_type": "markdown",
   "metadata": {
    "slideshow": {
     "slide_type": "subslide"
    }
   },
   "source": [
    "Anyways, in Kotlin you can write functions that will never be called with a null reference!\n",
    "\n",
    "To have Java semantics, you would actually use a nullable type."
   ]
  },
  {
   "cell_type": "code",
   "execution_count": 13,
   "metadata": {
    "slideshow": {
     "slide_type": "-"
    }
   },
   "outputs": [
    {
     "data": {
      "text/plain": [
       "Super, Mario!\n",
       "Super, null!"
      ]
     },
     "execution_count": 13,
     "metadata": {},
     "output_type": "execute_result"
    }
   ],
   "source": [
    "fun hephep(name: String?) {\n",
    "    println(\"Super, $name!\")\n",
    "}\n",
    "\n",
    "hephep(\"Mario\")\n",
    "hephep(null)"
   ]
  },
  {
   "cell_type": "markdown",
   "metadata": {
    "slideshow": {
     "slide_type": "subslide"
    }
   },
   "source": [
    "Nullable types are called _Optionals_ in Swift.\n",
    "\n",
    "```swift\n",
    "// Declare our new function\n",
    "func hephep(name: String?) {\n",
    "    print(\"Super, \\(name!)!\")\n",
    "}\n",
    "\n",
    "hephep(name: \"Mario\")\n",
    "```"
   ]
  },
  {
   "cell_type": "markdown",
   "metadata": {
    "slideshow": {
     "slide_type": "subslide"
    }
   },
   "source": [
    "### Your Turn!\n",
    "\n",
    "How to modify the following code to make it work?"
   ]
  },
  {
   "cell_type": "code",
   "execution_count": 14,
   "metadata": {
    "slideshow": {
     "slide_type": "-"
    }
   },
   "outputs": [
    {
     "data": {
      "text/plain": [
       "\u001b[1;31merror: \u001b[0;1mnull can not be a value of a non-null type String\u001b[m\n",
       "        null\n",
       "        ^\n",
       "Super, Mario!\n",
       "kotlin.Unit\n",
       "Super, null!\n",
       "kotlin.Unit"
      ]
     },
     "execution_count": 14,
     "metadata": {},
     "output_type": "execute_result"
    }
   ],
   "source": [
    "fun hephep(name: String): String {\n",
    "    return if (name == null) {\n",
    "        null\n",
    "    } else {\n",
    "        \"${\"Super\".repeat(3)}, $name!\"\n",
    "    }\n",
    "}\n",
    "\n",
    "var result = hephep(\"Mario\")\n",
    "println(result)\n",
    "result = hephep(null)\n",
    "println(result)"
   ]
  },
  {
   "cell_type": "markdown",
   "metadata": {
    "slideshow": {
     "slide_type": "subslide"
    }
   },
   "source": [
    "#### Solution"
   ]
  },
  {
   "cell_type": "code",
   "execution_count": 15,
   "metadata": {},
   "outputs": [
    {
     "data": {
      "text/plain": [
       "SuperSuperSuper, Mario!\n",
       "null"
      ]
     },
     "execution_count": 15,
     "metadata": {},
     "output_type": "execute_result"
    }
   ],
   "source": [
    "fun hephep(name: String?): String? {\n",
    "    return if (name == null) {\n",
    "        null\n",
    "    } else {\n",
    "        \"${\"Super\".repeat(3)}, $name!\"\n",
    "    }\n",
    "}\n",
    "\n",
    "var result = hephep(\"Mario\")\n",
    "println(result)\n",
    "result = hephep(null)\n",
    "println(result)"
   ]
  },
  {
   "cell_type": "markdown",
   "metadata": {
    "slideshow": {
     "slide_type": "subslide"
    }
   },
   "source": [
    "## Properties\n",
    "\n",
    "\n",
    "This is close to religion for some...\n",
    "\n",
    "In Java, a property is a pair of `get` and `set` methods.\n",
    "\n",
    "```java\n",
    "player.setName(\"Commander Keen\");\n",
    "player.getName();\n",
    "\n",
    "player.setName(null);  // uups\n",
    "```\n",
    "\n",
    "Why do we make the fields private in the first place?"
   ]
  },
  {
   "cell_type": "markdown",
   "metadata": {
    "slideshow": {
     "slide_type": "subslide"
    }
   },
   "source": [
    "## Properties in Java\n",
    "\n",
    "```java\n",
    "class Player {\n",
    "    private String name;\n",
    "\n",
    "    public Player(String name) {\n",
    "        this.name = name;\n",
    "    }\n",
    "\n",
    "    public String getName() {\n",
    "        return this.name;\n",
    "    }\n",
    "\n",
    "    public void setName(String newName) {\n",
    "        this.name = newName;\n",
    "    }\n",
    "}\n",
    "\n",
    "public class PropertyExample {\n",
    "    public static void main(String[] args) {\n",
    "        Player player = new Player(\"Monster\");\n",
    "        player.setName(\"Commander Keen\");\n",
    "        System.out.println(player.getName());\n",
    "    }\n",
    "}                 \n",
    "```\n"
   ]
  },
  {
   "cell_type": "code",
   "execution_count": 16,
   "metadata": {
    "slideshow": {
     "slide_type": "fragment"
    }
   },
   "outputs": [
    {
     "data": {
      "text/plain": [
       "Commander Keen\r\n"
      ]
     },
     "execution_count": 16,
     "metadata": {},
     "output_type": "execute_result"
    }
   ],
   "source": [
    "%%bash\n",
    "cd ../property_java\n",
    "javac PropertyExample.java\n",
    "java PropertyExample"
   ]
  },
  {
   "cell_type": "markdown",
   "metadata": {
    "slideshow": {
     "slide_type": "subslide"
    }
   },
   "source": [
    "## Properties in C`#`\n",
    "\n",
    "```csharp\n",
    "using System;\n",
    "\n",
    "public class Player {\n",
    "   private string _name;\n",
    "\n",
    "   public Player(string name) {\n",
    "      this._name = name;\n",
    "   }\n",
    "\n",
    "   public string Name {\n",
    "       get { return this._name; }\n",
    "       set {\n",
    "           if (value == null) throw new Exception();\n",
    "           this._name = value;\n",
    "       }\n",
    "   }\n",
    "}\n",
    "\n",
    "public class PropertyExample {\n",
    "   public static void Main() {\n",
    "      var player = new Player(\"Commander Keen\");\n",
    "      Console.WriteLine(player.Name);\n",
    "   }\n",
    "}\n",
    "```\n",
    "\n",
    "https://docs.microsoft.com/en-us/dotnet/csharp/programming-guide/classes-and-structs/properties"
   ]
  },
  {
   "cell_type": "code",
   "execution_count": 17,
   "metadata": {
    "slideshow": {
     "slide_type": "fragment"
    }
   },
   "outputs": [
    {
     "data": {
      "text/plain": [
       "Commander Keen\r\n"
      ]
     },
     "execution_count": 17,
     "metadata": {},
     "output_type": "execute_result"
    }
   ],
   "source": [
    "%%bash\n",
    "# dotnet new console -o propertyExample\n",
    "cd ../propertyExample\n",
    "dotnet run"
   ]
  },
  {
   "cell_type": "markdown",
   "metadata": {
    "slideshow": {
     "slide_type": "subslide"
    }
   },
   "source": [
    "## Properties in Kotlin"
   ]
  },
  {
   "cell_type": "code",
   "execution_count": 19,
   "metadata": {
    "slideshow": {
     "slide_type": "fragment"
    }
   },
   "outputs": [
    {
     "data": {
      "text/plain": [
       "\u001b[1;31merror: \u001b[0;1mnull can not be a value of a non-null type String\u001b[m\n",
       "p.name = null\n",
       "         ^\n",
       "Monster"
      ]
     },
     "execution_count": 19,
     "metadata": {},
     "output_type": "execute_result"
    }
   ],
   "source": [
    "class Player(_name: String) {\n",
    "    var name = _name\n",
    "}\n",
    "\n",
    "var p = Player(\"Monster\")\n",
    "p.name = null\n",
    "println(p.name)"
   ]
  },
  {
   "cell_type": "code",
   "execution_count": 20,
   "metadata": {
    "slideshow": {
     "slide_type": "subslide"
    }
   },
   "outputs": [
    {
     "data": {
      "text/plain": [
       "Commander keen"
      ]
     },
     "execution_count": 20,
     "metadata": {},
     "output_type": "execute_result"
    }
   ],
   "source": [
    "class Player(_name: String) {\n",
    "    var name = _name\n",
    "    set(value) {\n",
    "        field = value.capitalize()\n",
    "    }\n",
    "}\n",
    "\n",
    "var p = Player(\"Monster\")\n",
    "p.name = \"commander keen\"\n",
    "println(p.name)"
   ]
  },
  {
   "cell_type": "markdown",
   "metadata": {
    "slideshow": {
     "slide_type": "subslide"
    }
   },
   "source": [
    "## General Classes and Data Classes\n",
    "\n",
    "  1. _General classes_ may have properties plus some behavior (methods)\n",
    "  2. _Data classes_ are read-only and typically hold information from a database or other external sources"
   ]
  },
  {
   "cell_type": "code",
   "execution_count": 21,
   "metadata": {
    "slideshow": {
     "slide_type": "fragment"
    }
   },
   "outputs": [
    {
     "data": {
      "text/plain": [
       "Commander Keen\n",
       "\u001b[1;31merror: \u001b[0;1mval cannot be reassigned\u001b[m\n",
       "p.coordinate.x = -10\n",
       "^"
      ]
     },
     "execution_count": 21,
     "metadata": {},
     "output_type": "execute_result"
    }
   ],
   "source": [
    "data class Coordinate(val x: Int, val y: Int) {\n",
    "    val isInBounds = x >= 0 && y >= 0\n",
    "}\n",
    "\n",
    "class Player(_name: String) {\n",
    "    var name = _name\n",
    "    var coordinate = Coordinate(0, 0)\n",
    "}\n",
    "\n",
    "var p = Player(\"Monster\")\n",
    "p.name = \"Commander Keen\"\n",
    "println(p.name)\n",
    "p.coordinate.x = -10"
   ]
  },
  {
   "cell_type": "markdown",
   "metadata": {
    "slideshow": {
     "slide_type": "subslide"
    }
   },
   "source": [
    "## Extension Methods\n",
    "\n"
   ]
  },
  {
   "cell_type": "markdown",
   "metadata": {
    "slideshow": {
     "slide_type": "subslide"
    }
   },
   "source": [
    "## Extension Methods in Ruby\n",
    "\n",
    "In Java you can only extend behavior of objects by extending the class hierarchy, i.e., creating new classes that extend others.\n",
    "\n",
    "I am not a historian, but I think the concept of extension methods appeared first in Smalltalk, one of the oldest object-oriented languages.\n",
    "\n",
    "Ruby, implemented extension methods similar to Smalltalk.\n",
    "\n",
    "```ruby\n",
    "module Repeater\n",
    "    def repeated(times)\n",
    "        self * times\n",
    "    end\n",
    "end\n",
    "\n",
    "String.send(:include, Repeater)\n",
    "x = \"Hej!\"\n",
    "puts x.repeated(5)\n",
    "```"
   ]
  },
  {
   "cell_type": "code",
   "execution_count": 22,
   "metadata": {
    "slideshow": {
     "slide_type": "fragment"
    }
   },
   "outputs": [
    {
     "data": {
      "text/plain": [
       "Hej!Hej!Hej!Hej!Hej!\r\n"
      ]
     },
     "execution_count": 22,
     "metadata": {},
     "output_type": "execute_result"
    }
   ],
   "source": [
    "%%bash\n",
    "cd ../extension_methods_ruby\n",
    "ruby extended_string.rb"
   ]
  },
  {
   "cell_type": "markdown",
   "metadata": {
    "slideshow": {
     "slide_type": "subslide"
    }
   },
   "source": [
    "## Extension Methods in Kotlin\n"
   ]
  },
  {
   "cell_type": "code",
   "execution_count": 23,
   "metadata": {},
   "outputs": [
    {
     "data": {
      "text/plain": [
       "[3, 2, 1, 4]"
      ]
     },
     "execution_count": 23,
     "metadata": {},
     "output_type": "execute_result"
    }
   ],
   "source": [
    "fun MutableList<Int>.swap(index1: Int, index2: Int) {\n",
    "    val tmp = this[index1]  // 'this' corresponds to the mutable list\n",
    "    this[index1] = this[index2]\n",
    "    this[index2] = tmp\n",
    "}\n",
    "\n",
    "var numbers = mutableListOf(1, 2, 3, 4)\n",
    "numbers.swap(0, 2)\n",
    "println(numbers)"
   ]
  },
  {
   "cell_type": "markdown",
   "metadata": {
    "slideshow": {
     "slide_type": "subslide"
    }
   },
   "source": [
    "### Your Turn!\n",
    "\n",
    "Implement the extension function `oddLength()` on `List<Int>`. It should return `true` when the list contains an odd amount of elements and `false` otherwise. Without local installation use https://try.kotlinlang.org/\n",
    "\n",
    "If you want to paste your solution to http://collabedit.com/9vbxh\n",
    "\n",
    "The previous example looked like:\n",
    "\n",
    "```kotlin\n",
    "fun MutableList<Int>.swap(index1: Int, index2: Int) {\n",
    "    val tmp = this[index1]  // 'this' corresponds to the mutable list\n",
    "    this[index1] = this[index2]\n",
    "    this[index2] = tmp\n",
    "}\n",
    "```"
   ]
  },
  {
   "cell_type": "markdown",
   "metadata": {
    "slideshow": {
     "slide_type": "fragment"
    }
   },
   "source": [
    "A possible solution:"
   ]
  },
  {
   "cell_type": "code",
   "execution_count": 24,
   "metadata": {
    "slideshow": {
     "slide_type": "fragment"
    }
   },
   "outputs": [
    {
     "data": {
      "text/plain": [
       "true"
      ]
     },
     "execution_count": 24,
     "metadata": {},
     "output_type": "execute_result"
    }
   ],
   "source": [
    "fun List<Int>.oddLength(): Boolean {\n",
    "    return size % 2 != 0\n",
    "}\n",
    "    \n",
    "val numbers = listOf(1, 2, 3)\n",
    "numbers.oddLength()"
   ]
  },
  {
   "cell_type": "markdown",
   "metadata": {
    "slideshow": {
     "slide_type": "subslide"
    }
   },
   "source": [
    "#### Student Solutions"
   ]
  },
  {
   "cell_type": "code",
   "execution_count": 25,
   "metadata": {},
   "outputs": [
    {
     "data": {
      "text/plain": [
       "true"
      ]
     },
     "execution_count": 25,
     "metadata": {},
     "output_type": "execute_result"
    }
   ],
   "source": [
    "// Spaghetti bolognese by BILKA_EMPLOYEE\n",
    "fun List<Int>.oddLength(): Boolean{\n",
    "    return (this.size % 2 != 0)\n",
    "}\n",
    "\n",
    "numbers.oddLength()"
   ]
  },
  {
   "cell_type": "code",
   "execution_count": 26,
   "metadata": {},
   "outputs": [
    {
     "data": {
      "text/plain": [
       "true"
      ]
     },
     "execution_count": 26,
     "metadata": {},
     "output_type": "execute_result"
    }
   ],
   "source": [
    "// Slightly longer by REMA 2000 CASHIER \n",
    "fun List<Int>.oddLength(): Boolean {\n",
    "    return if (this.size % 2 == 0) {\n",
    "        false;\n",
    "    } else {\n",
    "        true;\n",
    "    }\n",
    "}\n",
    "\n",
    "numbers.oddLength()"
   ]
  },
  {
   "cell_type": "markdown",
   "metadata": {
    "slideshow": {
     "slide_type": "subslide"
    }
   },
   "source": [
    "How would you make a generic version out of the `oddLength()` extension function? "
   ]
  },
  {
   "cell_type": "code",
   "execution_count": 27,
   "metadata": {
    "slideshow": {
     "slide_type": "fragment"
    }
   },
   "outputs": [
    {
     "data": {
      "text/plain": [
       "false"
      ]
     },
     "execution_count": 27,
     "metadata": {},
     "output_type": "execute_result"
    }
   ],
   "source": [
    "fun <T> List<T>.oddLength(): Boolean {\n",
    "    return size % 2 != 0\n",
    "}\n",
    "    \n",
    "val numbers = listOf(1, \"2\", 2.3, 5)\n",
    "numbers.oddLength()"
   ]
  },
  {
   "cell_type": "markdown",
   "metadata": {
    "slideshow": {
     "slide_type": "subslide"
    }
   },
   "source": [
    "### Extension Properties\n",
    "\n",
    "You cannot only extend behavior but you can do so for properties as well. `oddLength` is likely more a property than a method."
   ]
  },
  {
   "cell_type": "code",
   "execution_count": 28,
   "metadata": {
    "slideshow": {
     "slide_type": "fragment"
    }
   },
   "outputs": [
    {
     "data": {
      "text/plain": [
       "true"
      ]
     },
     "execution_count": 28,
     "metadata": {},
     "output_type": "execute_result"
    }
   ],
   "source": [
    "val <T> List<T>.oddLength: Boolean  get() = size % 2 != 0\n",
    "    \n",
    "val numbers = listOf(1, 2, 3)\n",
    "numbers.oddLength"
   ]
  },
  {
   "cell_type": "markdown",
   "metadata": {},
   "source": [
    "https://kotlinlang.org/docs/reference/extensions.html"
   ]
  },
  {
   "cell_type": "markdown",
   "metadata": {
    "slideshow": {
     "slide_type": "subslide"
    }
   },
   "source": [
    "## Sequences?\n",
    "\n",
    "are _lazy collections_, i.e., values are first produced when first accessed.\n",
    "\n",
    "Lists are no sequences, they are _eager collections_."
   ]
  },
  {
   "cell_type": "code",
   "execution_count": 29,
   "metadata": {
    "slideshow": {
     "slide_type": "-"
    }
   },
   "outputs": [
    {
     "data": {
      "text/plain": [
       "[1, 2, 4, 10]"
      ]
     },
     "execution_count": 29,
     "metadata": {},
     "output_type": "execute_result"
    }
   ],
   "source": [
    "listOf(1, 2, 4, 10)"
   ]
  },
  {
   "cell_type": "code",
   "execution_count": 30,
   "metadata": {
    "slideshow": {
     "slide_type": "fragment"
    }
   },
   "outputs": [
    {
     "data": {
      "text/plain": [
       "kotlin.collections.ArraysKt___ArraysKt$asSequence$$inlined$Sequence$1@94f79a7"
      ]
     },
     "execution_count": 30,
     "metadata": {},
     "output_type": "execute_result"
    }
   ],
   "source": [
    "sequenceOf(1, 2, 4, 10) "
   ]
  },
  {
   "cell_type": "code",
   "execution_count": 31,
   "metadata": {
    "slideshow": {
     "slide_type": "fragment"
    }
   },
   "outputs": [
    {
     "data": {
      "text/plain": [
       "[1, 2, 4, 10]"
      ]
     },
     "execution_count": 31,
     "metadata": {},
     "output_type": "execute_result"
    }
   ],
   "source": [
    "sequenceOf(1, 2, 4, 10).toList()"
   ]
  },
  {
   "cell_type": "code",
   "execution_count": 32,
   "metadata": {
    "slideshow": {
     "slide_type": "subslide"
    }
   },
   "outputs": [
    {
     "data": {
      "text/plain": [
       "\u001b[4C\n",
       "kotlin.sequences.TransformingSequence@7ee0dbd1"
      ]
     },
     "execution_count": 32,
     "metadata": {},
     "output_type": "execute_result"
    }
   ],
   "source": [
    "val a = sequenceOf(1, 2, 3, 4, 5, 6).filter( { it % 2 != 0 } ).map( { it * 2 } )\n",
    "a"
   ]
  },
  {
   "cell_type": "code",
   "execution_count": 33,
   "metadata": {
    "slideshow": {
     "slide_type": "fragment"
    }
   },
   "outputs": [
    {
     "data": {
      "text/plain": [
       "[2, 6, 10]"
      ]
     },
     "execution_count": 33,
     "metadata": {},
     "output_type": "execute_result"
    }
   ],
   "source": [
    "a.toList()"
   ]
  },
  {
   "cell_type": "code",
   "execution_count": 34,
   "metadata": {
    "slideshow": {
     "slide_type": "fragment"
    }
   },
   "outputs": [
    {
     "data": {
      "text/plain": [
       "2\n",
       "6\n",
       "10"
      ]
     },
     "execution_count": 34,
     "metadata": {},
     "output_type": "execute_result"
    }
   ],
   "source": [
    "a.forEach { println(it) }"
   ]
  },
  {
   "cell_type": "markdown",
   "metadata": {
    "slideshow": {
     "slide_type": "fragment"
    }
   },
   "source": [
    "### Your turn!\n",
    "\n",
    "What are possible advantages of using sequences compared to lists?"
   ]
  },
  {
   "cell_type": "markdown",
   "metadata": {
    "slideshow": {
     "slide_type": "subslide"
    }
   },
   "source": [
    "## What was this?\n",
    "\n",
    "```kotlin\n",
    "a.forEach( { println(it) } )\n",
    "```"
   ]
  },
  {
   "cell_type": "markdown",
   "metadata": {
    "slideshow": {
     "slide_type": "fragment"
    }
   },
   "source": [
    "#### First Class Functions\n",
    "\n",
    "Here, `{ println(it) }` is an anonymous function (lambda).\n",
    "\n",
    "It is an example for that functions can be passed as parameter.\n",
    "\n",
    "It is equivalent to:"
   ]
  },
  {
   "cell_type": "code",
   "execution_count": 35,
   "metadata": {
    "slideshow": {
     "slide_type": "fragment"
    }
   },
   "outputs": [
    {
     "data": {
      "text/plain": [
       "2\n",
       "6\n",
       "10"
      ]
     },
     "execution_count": 35,
     "metadata": {},
     "output_type": "execute_result"
    }
   ],
   "source": [
    "a.forEach( { el -> println(el) } )"
   ]
  },
  {
   "cell_type": "code",
   "execution_count": 36,
   "metadata": {
    "slideshow": {
     "slide_type": "fragment"
    }
   },
   "outputs": [
    {
     "data": {
      "text/plain": [
       "2\n",
       "6\n",
       "10"
      ]
     },
     "execution_count": 36,
     "metadata": {},
     "output_type": "execute_result"
    }
   ],
   "source": [
    "a.forEach(fun(el) = println(el))"
   ]
  },
  {
   "cell_type": "markdown",
   "metadata": {
    "slideshow": {
     "slide_type": "subslide"
    }
   },
   "source": [
    "### Sequence Builder Function\n",
    "\n",
    "You can actually create infinitive collections now and work with them.\n",
    "\n",
    "What does the following code do?\n",
    "\n",
    "```kotlin\n",
    "generateSequence(0) { it + 1 }.forEach { println(it) }\n",
    "```"
   ]
  },
  {
   "cell_type": "code",
   "execution_count": 37,
   "metadata": {
    "slideshow": {
     "slide_type": "-"
    }
   },
   "outputs": [
    {
     "data": {
      "text/plain": [
       "[0, 1, 2, 3, 5, 7, 11, 13, 17, 19, 23, 29, 31, 37, 41, 43, 47, 53, 59, 61, 67, 71, 73, 79, 83, 89, 97, 101, 103, 107, 109, 113, 127, 131, 137, 139, 149, 151, 157, 163, 167, 173, 179, 181, 191, 193, 197, 199, 211, 223, 227, 229, 233, 239, 241, 251, 257, 263, 269, 271, 277, 281, 283, 293, 307, 311, 313, 317, 331, 337, 347, 349, 353, 359, 367, 373, 379, 383, 389, 397, 401, 409, 419, 421, 431, 433, 439, 443, 449, 457, 461, 463, 467, 479, 487, 491, 499, 503, 509, 521]"
      ]
     },
     "execution_count": 37,
     "metadata": {},
     "output_type": "execute_result"
    }
   ],
   "source": [
    "fun Int.isPrime(): Boolean {\n",
    "    (2 until this).map {\n",
    "        if (this % it == 0) return false\n",
    "    }\n",
    "    return true\n",
    "}\n",
    "\n",
    "generateSequence(0) { it + 1 }.filter { it.isPrime() }.take(100).toList()"
   ]
  },
  {
   "cell_type": "markdown",
   "metadata": {
    "slideshow": {
     "slide_type": "slide"
    }
   },
   "source": [
    "# Language Interoperability\n",
    "\n",
    "You can call Java programs from Kotlin and vice versa.\n",
    "\n",
    "You can start using Kotlin in your Android projects incrementally, i.e., implement a single feature just to get the hang of it."
   ]
  },
  {
   "cell_type": "markdown",
   "metadata": {
    "slideshow": {
     "slide_type": "subslide"
    }
   },
   "source": [
    "## A Kotlin Program Calling a Java Program\n",
    "`TextStats.kt` contains:\n",
    "\n",
    "```kotlin\n",
    "import WordCounter\n",
    "import java.io.File\n",
    "\n",
    "\n",
    "fun main(args: Array<String>) {\n",
    "    val fileName = args[0]\n",
    "    val contentTxt = File(fileName).readText()\n",
    "    val fstParagraph = contentTxt.slice((28650..29772))\n",
    "\n",
    "    println(fstParagraph)\n",
    "    println(\"Contains ${WordCounter(fstParagraph).count()} words.\")\n",
    "}\n",
    "```"
   ]
  },
  {
   "cell_type": "markdown",
   "metadata": {
    "slideshow": {
     "slide_type": "fragment"
    }
   },
   "source": [
    "`WordCounter.java` contains:\n",
    "\n",
    "```java\n",
    "public class WordCounter {\n",
    "\n",
    "    private final String text;\n",
    "    private String[] words;\n",
    "\n",
    "    public WordCounter(String text) {\n",
    "        this.text = text;\n",
    "    }\n",
    "\n",
    "    public int count() {\n",
    "        if (this.words == null) {\n",
    "            this.words = this.text.split(\"\\\\s+\");\n",
    "        }\n",
    "\n",
    "        return this.words.length;\n",
    "    }\n",
    "}\n",
    "```"
   ]
  },
  {
   "cell_type": "markdown",
   "metadata": {
    "slideshow": {
     "slide_type": "subslide"
    }
   },
   "source": [
    "## Manually Building a Kotlin & Java App\n",
    "\n",
    "If you were to compile and run the previous Kotlin and Java programs from the command-line, you could do the following. \n",
    "\n",
    "In your mixed language Android project the IDE together with Gradle take care of all of that."
   ]
  },
  {
   "cell_type": "code",
   "execution_count": 38,
   "metadata": {},
   "outputs": [
    {
     "data": {
      "text/plain": [
       "added manifest\r\n",
       "adding: WordCounter.class(in = 529) (out= 333)(deflated 37%)\r\n",
       "\r",
       "\r\n",
       "Call me Ishmael. Some years ago—never mind how long precisely—having\r",
       "\r\n",
       "little or no money in my purse, and nothing particular to interest me\r",
       "\r\n",
       "on shore, I thought I would sail about a little and see the watery part\r",
       "\r\n",
       "of the world. It is a way I have of driving off the spleen and\r",
       "\r\n",
       "regulating the circulation. Whenever I find myself growing grim about\r",
       "\r\n",
       "the mouth; whenever it is a damp, drizzly November in my soul; whenever\r",
       "\r\n",
       "I find myself involuntarily pausing before coffin warehouses, and\r",
       "\r\n",
       "bringing up the rear of every funeral I meet; and especially whenever\r",
       "\r\n",
       "my hypos get such an upper hand of me, that it requires a strong moral\r",
       "\r\n",
       "principle to prevent me from deliberately stepping into the street, and\r",
       "\r\n",
       "methodically knocking people’s hats off—then, I account it high time to\r",
       "\r\n",
       "get to sea as soon as I can. This is my substitute for pistol and ball.\r",
       "\r\n",
       "With a philosophical flourish Cato throws himself upon his sword; I\r",
       "\r\n",
       "quietly take to the ship. There is nothing surprising in this. If they\r",
       "\r\n",
       "but knew it, almost all men in their degree, some time or other,\r",
       "\r\n",
       "cherish very nearly the same feelings towards the ocean with me\r\n",
       "Contains 199 words.\r\n"
      ]
     },
     "execution_count": 38,
     "metadata": {},
     "output_type": "execute_result"
    }
   ],
   "source": [
    "%%bash\n",
    "cd ../lang_interop\n",
    "javac WordCounter.java\n",
    "jar cvf WordCounter.jar WordCounter.class\n",
    "kotlinc TextStat.kt -include-runtime -d TextStat.jar -classpath WordCounter.jar\n",
    "java -classpath TextStat.jar:WordCounter.jar TextStatKt mobydick.txt"
   ]
  },
  {
   "cell_type": "markdown",
   "metadata": {
    "slideshow": {
     "slide_type": "subslide"
    }
   },
   "source": [
    "### Your Turn!\n",
    "\n",
    "Why does that work? Why can I just call a Java program from a Kotlin program and vice-versa?"
   ]
  },
  {
   "cell_type": "code",
   "execution_count": 39,
   "metadata": {
    "slideshow": {
     "slide_type": "fragment"
    }
   },
   "outputs": [
    {
     "data": {
      "text/plain": [
       "Compiled from \"TextStat.kt\"\r\n",
       "public final class TextStatKt {\r\n",
       "  public static final void main(java.lang.String[]);\r\n",
       "    Code:\r\n",
       "       0: aload_0\r\n",
       "       1: ldc           #9                  // String args\r\n",
       "       3: invokestatic  #15                 // Method kotlin/jvm/internal/Intrinsics.checkParameterIsNotNull:(Ljava/lang/Object;Ljava/lang/String;)V\r\n",
       "       6: aload_0\r\n",
       "       7: iconst_0\r\n",
       "       8: aaload\r\n",
       "       9: astore_1\r\n",
       "      10: new           #17                 // class java/io/File\r\n",
       "      13: dup\r\n",
       "      14: aload_1\r\n",
       "      15: invokespecial #21                 // Method java/io/File.\"<init>\":(Ljava/lang/String;)V\r\n",
       "      18: aconst_null\r\n",
       "      19: iconst_1\r\n",
       "      20: aconst_null\r\n",
       "      21: invokestatic  #27                 // Method kotlin/io/FilesKt.readText$default:(Ljava/io/File;Ljava/nio/charset/Charset;ILjava/lang/Object;)Ljava/lang/String;\r\n",
       "      24: astore_2\r\n",
       "      25: aload_2\r\n",
       "      26: sipush        28650\r\n",
       "      29: istore        4\r\n",
       "      31: new           #29                 // class kotlin/ranges/IntRange\r\n",
       "      34: dup\r\n",
       "      35: iload         4\r\n",
       "      37: sipush        29772\r\n",
       "      40: invokespecial #32                 // Method kotlin/ranges/IntRange.\"<init>\":(II)V\r\n",
       "      43: invokestatic  #38                 // Method kotlin/text/StringsKt.slice:(Ljava/lang/String;Lkotlin/ranges/IntRange;)Ljava/lang/String;\r\n",
       "      46: astore_3\r\n",
       "      47: getstatic     #44                 // Field java/lang/System.out:Ljava/io/PrintStream;\r\n",
       "      50: aload_3\r\n",
       "      51: invokevirtual #50                 // Method java/io/PrintStream.println:(Ljava/lang/Object;)V\r\n",
       "      54: new           #52                 // class java/lang/StringBuilder\r\n",
       "      57: dup\r\n",
       "      58: invokespecial #55                 // Method java/lang/StringBuilder.\"<init>\":()V\r\n",
       "      61: ldc           #57                 // String Contains\r\n",
       "      63: invokevirtual #61                 // Method java/lang/StringBuilder.append:(Ljava/lang/String;)Ljava/lang/StringBuilder;\r\n",
       "      66: new           #63                 // class WordCounter\r\n",
       "      69: dup\r\n",
       "      70: aload_3\r\n",
       "      71: invokespecial #64                 // Method WordCounter.\"<init>\":(Ljava/lang/String;)V\r\n",
       "      74: invokevirtual #68                 // Method WordCounter.count:()I\r\n",
       "      77: invokevirtual #71                 // Method java/lang/StringBuilder.append:(I)Ljava/lang/StringBuilder;\r\n",
       "      80: ldc           #73                 // String  words.\r\n",
       "      82: invokevirtual #61                 // Method java/lang/StringBuilder.append:(Ljava/lang/String;)Ljava/lang/StringBuilder;\r\n",
       "      85: invokevirtual #77                 // Method java/lang/StringBuilder.toString:()Ljava/lang/String;\r\n",
       "      88: astore        4\r\n",
       "      90: getstatic     #44                 // Field java/lang/System.out:Ljava/io/PrintStream;\r\n",
       "      93: aload         4\r\n",
       "      95: invokevirtual #50                 // Method java/io/PrintStream.println:(Ljava/lang/Object;)V\r\n",
       "      98: return\r\n",
       "}\r\n"
      ]
     },
     "execution_count": 39,
     "metadata": {},
     "output_type": "execute_result"
    }
   ],
   "source": [
    "%%bash\n",
    "unzip -p TextStat.jar TextStatKt.class > TextStatKt.class\n",
    "javap -c TextStatKt.class"
   ]
  },
  {
   "cell_type": "code",
   "execution_count": 40,
   "metadata": {
    "slideshow": {
     "slide_type": "skip"
    }
   },
   "outputs": [
    {
     "data": {
      "text/plain": [
       "Compiled from \"WordCounter.java\"\r\n",
       "public class WordCounter {\r\n",
       "  public WordCounter(java.lang.String);\r\n",
       "    Code:\r\n",
       "       0: aload_0\r\n",
       "       1: invokespecial #1                  // Method java/lang/Object.\"<init>\":()V\r\n",
       "       4: aload_0\r\n",
       "       5: aload_1\r\n",
       "       6: putfield      #2                  // Field text:Ljava/lang/String;\r\n",
       "       9: return\r\n",
       "\r\n",
       "  public int count();\r\n",
       "    Code:\r\n",
       "       0: aload_0\r\n",
       "       1: getfield      #3                  // Field words:[Ljava/lang/String;\r\n",
       "       4: ifnonnull     20\r\n",
       "       7: aload_0\r\n",
       "       8: aload_0\r\n",
       "       9: getfield      #2                  // Field text:Ljava/lang/String;\r\n",
       "      12: ldc           #4                  // String \\\\s+\r\n",
       "      14: invokevirtual #5                  // Method java/lang/String.split:(Ljava/lang/String;)[Ljava/lang/String;\r\n",
       "      17: putfield      #3                  // Field words:[Ljava/lang/String;\r\n",
       "      20: aload_0\r\n",
       "      21: getfield      #3                  // Field words:[Ljava/lang/String;\r\n",
       "      24: arraylength\r\n",
       "      25: ireturn\r\n",
       "}\r\n"
      ]
     },
     "execution_count": 40,
     "metadata": {},
     "output_type": "execute_result"
    }
   ],
   "source": [
    "%%bash\n",
    "unzip -p WordCounter.jar WordCounter.class > WordCounter.class\n",
    "javap -c WordCounter.class"
   ]
  },
  {
   "cell_type": "markdown",
   "metadata": {},
   "source": [
    "Kotlin with JVM target compiles everything to JVM bytecode. On that level code in no matter which language that compiles to JVM bytecode can interoperate. Now you know, that you can include Groovy, Scala, Clojure, etc. code into your Android app too.\n",
    "\n",
    "<p><small>Get help on decompiling JVM bytecode: <a href=\"https://docs.oracle.com/javase/7/docs/technotes/tools/windows/javap.html\">https://docs.oracle.com/javase/7/docs/technotes/tools/windows/javap.html</a></small></p>"
   ]
  },
  {
   "cell_type": "markdown",
   "metadata": {
    "slideshow": {
     "slide_type": "slide"
    }
   },
   "source": [
    "# Kotlin for Android\n",
    "\n",
    "You can create new projects in which you can write Kotlin code either by\n",
    "\n",
    "  * choosing `Include Kotlin support` or \n",
    "  * you just add a Kotlin file to your project and configure your build configuration (gradle file) accordingly.\n",
    "\n",
    "![](images/kotlin_support.png)"
   ]
  },
  {
   "cell_type": "markdown",
   "metadata": {
    "slideshow": {
     "slide_type": "subslide"
    }
   },
   "source": [
    "## A Simple Kotlin App\n",
    "\n",
    "Let's build a simple Kotlin application with one activity, which displays a bit of text in a `TextView`.\n",
    "\n",
    "The `acivity_main.xml` could look like this. Note the name of the `id` of the text view `textView`.\n",
    "\n",
    "```xml\n",
    "<?xml version=\"1.0\" encoding=\"utf-8\"?>\n",
    "<android.support.constraint.ConstraintLayout\n",
    "        xmlns:android=\"http://schemas.android.com/apk/res/android\"\n",
    "        xmlns:tools=\"http://schemas.android.com/tools\"\n",
    "        xmlns:app=\"http://schemas.android.com/apk/res-auto\"\n",
    "        android:layout_width=\"match_parent\"\n",
    "        android:layout_height=\"match_parent\"\n",
    "        tools:context=\".MainActivity\">\n",
    "\n",
    "    <TextView\n",
    "            android:id=\"@+id/textView\"\n",
    "            android:layout_width=\"wrap_content\"\n",
    "            android:layout_height=\"wrap_content\"\n",
    "            android:text=\"Loading...\"\n",
    "            app:layout_constraintBottom_toBottomOf=\"parent\"\n",
    "            app:layout_constraintLeft_toLeftOf=\"parent\"\n",
    "            app:layout_constraintRight_toRightOf=\"parent\"\n",
    "            app:layout_constraintTop_toTopOf=\"parent\" />\n",
    "\n",
    "</android.support.constraint.ConstraintLayout>\n",
    "```"
   ]
  },
  {
   "cell_type": "markdown",
   "metadata": {
    "slideshow": {
     "slide_type": "subslide"
    }
   },
   "source": [
    "### Android with Kotlin - Java Style:\n",
    "\n",
    "Now you could fill the text view as you are used from Java:\n",
    "\n",
    "```kotlin\n",
    "package dk.itu.helge.textviewer\n",
    "\n",
    "import android.support.v7.app.AppCompatActivity\n",
    "import android.os.Bundle\n",
    "import android.widget.TextView\n",
    "\n",
    "class MainActivity : AppCompatActivity() {\n",
    "\n",
    "    private var textView: TextView? = null\n",
    "\n",
    "    override fun onCreate(savedInstanceState: Bundle?) {\n",
    "        super.onCreate(savedInstanceState)\n",
    "        setContentView(R.layout.activity_main)\n",
    "\n",
    "        textView = findViewById(R.id.textView)\n",
    "        val text = resources.getString(R.string.fst_paragraph)\n",
    "        textView?.text = text\n",
    "    }\n",
    "}\n",
    "```\n",
    "\n",
    "This code is actually generated automatically when you paste the corresponding Java code into a file with `.kt` suffix in Android Studio."
   ]
  },
  {
   "cell_type": "markdown",
   "metadata": {
    "slideshow": {
     "slide_type": "subslide"
    }
   },
   "source": [
    "### Android with Kotlin - Kotlin Style:\n",
    "\n",
    "With the right Kotlin tools imported (`kotlinx.android.synthetic.main.activity_main.*`) you can access any element with an `id` from a corresponding activity directly via it's name in Kotlin code.\n",
    "\n",
    "No need for `findViewById(R.id.textView)` anymore.\n",
    "\n",
    "```kotlin\n",
    "package dk.itu.helge.textviewer\n",
    "\n",
    "import android.support.v7.app.AppCompatActivity\n",
    "import android.os.Bundle\n",
    "import kotlinx.android.synthetic.main.activity_main.*\n",
    "\n",
    "class MainActivity : AppCompatActivity() {\n",
    "\n",
    "    override fun onCreate(savedInstanceState: Bundle?) {\n",
    "        super.onCreate(savedInstanceState)\n",
    "        setContentView(R.layout.activity_main)\n",
    "\n",
    "        val text = resources.getString(R.string.fst_paragraph)\n",
    "        textView.text = text\n",
    "    }\n",
    "}\n",
    "```"
   ]
  },
  {
   "cell_type": "markdown",
   "metadata": {
    "slideshow": {
     "slide_type": "subslide"
    }
   },
   "source": [
    "# Java and Kotlin in a Single Android App\n",
    "\n",
    "Demo!\n",
    "\n",
    "<img src=\"images/interop_app.png\" width=\"400\">\n",
    "\n",
    "It is the application `TextReader` in the lecture material."
   ]
  },
  {
   "cell_type": "markdown",
   "metadata": {
    "slideshow": {
     "slide_type": "slide"
    }
   },
   "source": [
    "# That is it for now...\n",
    "\n",
    "There are so many more cool features of Kotlin one can explore...\n",
    "\n",
    "Where to go from here?\n",
    "\n",
    "  * https://kotlinlang.org\n",
    "  * [Copenhagen Kotlin User Group](https://www.meetup.com/Kotlin-Copenhagen/) they meet tonight!\n",
    "  * The [official documentation](https://kotlinlang.org/docs/reference/) is really good.\n",
    "  * I used the book [_Kotlin Programming: The Big Nerd Ranch Guide_](https://www.bignerdranch.com/books/kotlin-programming/) for preparation."
   ]
  },
  {
   "cell_type": "markdown",
   "metadata": {
    "slideshow": {
     "slide_type": "slide"
    }
   },
   "source": [
    "# Next Time\n",
    "\n",
    "# Storage in Android\n",
    "\n",
    "  * Reading and writing text files\n",
    "  * Serializable objects \n",
    "  * Data Persistence\n",
    "  * Databases \n",
    "    - SQLite\n",
    "    - Realm"
   ]
  }
 ],
 "metadata": {
  "celltoolbar": "Slideshow",
  "kernelspec": {
   "display_name": "Kotlin",
   "language": "kotlin",
   "name": "kotlin"
  },
  "language_info": {
   "file_extension": ".kt",
   "mimetype": "text/x-kotlin",
   "name": "kotlin"
  },
  "livereveal": {
   "theme": "serif",
   "transition": "zoom"
  }
 },
 "nbformat": 4,
 "nbformat_minor": 2
}
